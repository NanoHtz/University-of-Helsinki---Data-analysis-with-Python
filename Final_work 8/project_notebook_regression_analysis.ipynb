{
 "cells": [
  {
   "cell_type": "markdown",
   "metadata": {},
   "source": [
    "# Linear regression"
   ]
  },
  {
   "cell_type": "markdown",
   "metadata": {},
   "source": [
    "Import all the modules you will need in this notebook here:"
   ]
  },
  {
   "cell_type": "code",
   "execution_count": null,
   "metadata": {},
   "outputs": [],
   "source": [
    "# exercise 0\n",
    "# Put your solution here!\n",
    "import pandas as pd\n",
    "import statsmodels\n",
    "import statsmodels.formula.api as smf\n",
    "import numpy as np\n",
    "import matplotlib.pyplot as plt\n",
    "from sklearn.model_selection import KFold\n",
    "from statsmodels.graphics.regressionplots import abline_plot"
   ]
  },
  {
   "cell_type": "markdown",
   "metadata": {},
   "source": [
    "We continue analysing the `fram` heart disease data.\n",
    "\n",
    "First load the data, use the name `fram` for the DataFrame variable. Make sure that in the data you loaded the column and row headers are in place. Checkout the summary of the variables using the `describe` method."
   ]
  },
  {
   "cell_type": "code",
   "execution_count": null,
   "metadata": {},
   "outputs": [],
   "source": [
    "# exercise 1\n",
    "def get_path(filename):\n",
    "    import sys\n",
    "    import os\n",
    "    prog_name = sys.argv[0]\n",
    "    if os.path.basename(prog_name) == \"__main__.py\":   # Running under TMC\n",
    "        return os.path.join(os.path.dirname(prog_name), \"..\", \"src\", filename)\n",
    "    else:\n",
    "        return filename\n",
    "    \n",
    "# Put your solution here!\n",
    "path = get_path(\"fram.txt\")\n",
    "fram = pd.read_csv(path, sep='\\t')\n",
    "fram.describe()"
   ]
  },
  {
   "cell_type": "markdown",
   "metadata": {},
   "source": [
    "Create function `rescale` that takes a Series as parameter. It should center the data and normalize it by dividing\n",
    "by 2$\\sigma$, where $\\sigma$ is the standard deviation. Return the rescaled Series."
   ]
  },
  {
   "cell_type": "code",
   "execution_count": null,
   "metadata": {},
   "outputs": [],
   "source": [
    "# exercise 2\n",
    "# Put your solution here!\n",
    "def rescale(series: pd.Series) -> pd.Series:\n",
    "    \"\"\"\n",
    "    Center the data in `series` (subtract the mean) and\n",
    "    normalize by dividing by 2 * standard deviation.\n",
    "    \"\"\"\n",
    "    mu = series.mean()\n",
    "    sigma = series.std()\n",
    "    return (series - mu) / (2 * sigma)"
   ]
  },
  {
   "cell_type": "markdown",
   "metadata": {},
   "source": [
    "Add to the DataFrame the scaled versions of all the continuous variables (with function `rescale`). Add small letter `s` in front of the original variable name to get the name of the scaled variable. For instance, `AGE` -> `sAGE`."
   ]
  },
  {
   "cell_type": "code",
   "execution_count": null,
   "metadata": {},
   "outputs": [],
   "source": [
    "# exercise 3\n",
    "# Put your solution here!\n",
    "\n",
    "num_cols = fram.select_dtypes(include=['number']).columns.tolist()\n",
    "cont_cols = [c for c in num_cols if c != 'ID']\n",
    "for col in cont_cols:\n",
    "    fram['s' + col] = rescale(fram[col])\n"
   ]
  },
  {
   "cell_type": "markdown",
   "metadata": {},
   "source": [
    "Form a model that predicts systolic blood pressure using weight, gender, and cholesterol level as explanatory variables. Store the fitted model in variable named `fit`."
   ]
  },
  {
   "cell_type": "code",
   "execution_count": null,
   "metadata": {},
   "outputs": [],
   "source": [
    "# exercise 4\n",
    "# Put your solution here!\n",
    "fit = smf.ols('SBP ~ sFRW + SEX + sCHOL', data=fram).fit()"
   ]
  },
  {
   "cell_type": "markdown",
   "metadata": {},
   "source": [
    "Add the variable AGE to the model and inspect the estimates of the coefficients using the `summary` method of the fitted model. Again use the name `fit` for the fitted model. (From now on assume that we always use the name `fit` for the variable of the fitted model.)"
   ]
  },
  {
   "cell_type": "code",
   "execution_count": null,
   "metadata": {},
   "outputs": [],
   "source": [
    "# exercise 5\n",
    "# Put your solution here!\n",
    "fit = smf.ols('SBP ~ sFRW + SEX + sCHOL + sAGE', data=fram).fit()"
   ]
  },
  {
   "cell_type": "code",
   "execution_count": null,
   "metadata": {},
   "outputs": [],
   "source": [
    "\n",
    "fit1 = smf.ols('SBP ~ sFRW + SEX + sCHOL', data=fram).fit()\n",
    "r2_no_age = fit1.rsquared\n",
    "fit = smf.ols('SBP ~ sFRW + SEX + sCHOL + sAGE', data=fram).fit()\n",
    "r2_with_age = fit.rsquared\n",
    "increase = r2_with_age - r2_no_age\n",
    "print(f\"R²:  {r2_no_age:.4f}\")\n",
    "print(f\"R² with age:  {r2_with_age:.4f}\")\n",
    "print(f\"Diference R²:   {increase:.4f}\")\n",
    "imp = fit.params.abs().sort_values(ascending=False)\n",
    "print(imp)\n"
   ]
  },
  {
   "cell_type": "markdown",
   "metadata": {},
   "source": [
    "How much does the inclusion of age increase the explanatory power of the model? Which variables explain the variance of the target variable most?\n",
    "\n",
    "***\n",
    "\n",
    "The R^2 model without age is 0.1253, with age is 0.1461, including age increases the explanatory power by 0.0208 or 2.08 porcentage points.\n",
    "\n",
    "The variables most important are:\n",
    "weight with 16.98\n",
    "age with 8.13\n",
    "sex with 4.38\n",
    "cholesterol with 4.27\n",
    "\n",
    "Weight (sFRW) is the strongest continuous predictor of systolic blood pressure once all variables are centered and scaled.\n",
    "Cholesterol (sCHOL) contributes the least of the four, although it remains statistically significant.\n",
    "\n",
    "***"
   ]
  },
  {
   "cell_type": "markdown",
   "metadata": {},
   "source": [
    "Try to add to the model all the interactions with other variables. "
   ]
  },
  {
   "cell_type": "code",
   "execution_count": null,
   "metadata": {},
   "outputs": [],
   "source": [
    "# exercise 6\n",
    "# Put your solution here!\n",
    "fit = smf.ols(\n",
    "    'SBP ~ (sFRW + SEX + sCHOL + sAGE)**2',\n",
    "    data=fram\n",
    ").fit()\n"
   ]
  },
  {
   "cell_type": "markdown",
   "metadata": {},
   "source": [
    "Then visualize the model as the function of weight for the youngest (sAGE=-1.0), middle aged (sAGE=0.0), and oldest (sAGE=1.0) women while assuming the background variables to be centered. Remember to consider the changes in the intercept and in the regression coefficient caused by age. Visualize both the data points and the fitted lines."
   ]
  },
  {
   "cell_type": "code",
   "execution_count": null,
   "metadata": {},
   "outputs": [],
   "source": [
    "# exercise 7\n",
    "# Put your solution here!\n",
    "df_f = fram[fram['SEX'] == 'female']\n",
    "x = np.linspace(df_f['sFRW'].min(), df_f['sFRW'].max(), 100)\n",
    "b0    = fit.params['Intercept']\n",
    "b_frw = fit.params['sFRW']\n",
    "b_age = fit.params['sAGE']\n",
    "b_int = fit.params['sFRW:sAGE']\n",
    "plt.figure()\n",
    "plt.scatter(df_f['sFRW'], df_f['SBP'], alpha=0.5, label='data')\n",
    "for age_val in [-1.0, 0.0, 1.0]:\n",
    "    intercept = b0 + b_age * age_val\n",
    "    slope     = b_frw + b_int * age_val\n",
    "    abline_plot(\n",
    "        intercept=intercept,\n",
    "        slope=slope,\n",
    "        label=f'sAGE = {age_val}',\n",
    "        ax=plt.gca()\n",
    "    )\n",
    "plt.xlabel('Scaled weight (sFRW)')\n",
    "plt.ylabel('Systolic blood pressure (SBP)')\n",
    "plt.legend()\n",
    "plt.show()\n"
   ]
  },
  {
   "cell_type": "markdown",
   "metadata": {},
   "source": [
    "How does the dependence of blood pressure on weight change as a person gets older?\n",
    "***\n",
    "\n",
    "The weight–age interaction coefficient is positive, which tells us that the effect of weight on systolic blood pressure grows stronger as a person gets older.\n",
    "In other words, each additional (scaled and centered) unit of weight raises systolic blood pressure more in older subjects than in younger ones.\n",
    "\n",
    "***"
   ]
  },
  {
   "cell_type": "markdown",
   "metadata": {},
   "source": [
    "### Even more accurate model\n",
    "\n",
    "Include the background variable `sCIG` from the data and its interactions. Visualize the model for systolic blood pressure as the function of the most important explanatory variable. Visualize separate lines for the small (-1.0), average (0.0), and large (1.0) values of `sCHOL`. Other variables can be assumed to be at their mean value."
   ]
  },
  {
   "cell_type": "code",
   "execution_count": null,
   "metadata": {},
   "outputs": [],
   "source": [
    "# exercise 8\n",
    "\n",
    "import numpy as np\n",
    "import matplotlib.pyplot as plt\n",
    "import statsmodels.formula.api as smf\n",
    "from statsmodels.graphics.regressionplots import abline_plot\n",
    "fit = smf.ols(\n",
    "    'SBP ~ (sFRW + SEX + sCHOL + sAGE + sCIG)**2',\n",
    "    data=fram\n",
    ").fit()\n",
    "df_f = fram[fram['SEX'] == 'female']\n",
    "x = np.linspace(df_f['sFRW'].min(), df_f['sFRW'].max(), 100)\n",
    "b = fit.params\n",
    "b0         = b['Intercept']\n",
    "b_frw      = b['sFRW']\n",
    "b_frw_chol = b['sFRW:sCHOL']\n",
    "plt.figure()\n",
    "plt.scatter(df_f['sFRW'], df_f['SBP'], alpha=0.5, label='data')\n",
    "for chol_val in [-1.0, 0.0, 1.0]:\n",
    "    intercept = b0 + b['sCHOL'] * chol_val\n",
    "    slope     = b_frw + b_frw_chol * chol_val\n",
    "    abline_plot(intercept=intercept,\n",
    "                slope=slope,\n",
    "                ax=plt.gca())\n",
    "plt.xlabel('Peso escalado (sFRW)')\n",
    "plt.ylabel('Presión sistólica (SBP)')\n",
    "plt.legend(['data', 'line1', 'line2', 'line3'])\n",
    "plt.show()\n"
   ]
  },
  {
   "cell_type": "markdown",
   "metadata": {},
   "source": [
    "How does the model and its accuracy look?\n",
    "\n",
    "***\n",
    "\n",
    "The fully specified model with all two-way interactions (including cigarettes, age, weight, cholesterol and sex) shows a substantial jump in explanatory power compared to the simpler models, The R^2 climbs from about 0.146 (without cigarettes and interactions) to roughly 0.18–0.20 once you add cigarettes and all pairwise terms.\n",
    "\n",
    "***"
   ]
  },
  {
   "cell_type": "markdown",
   "metadata": {},
   "source": [
    "# Logistic regression"
   ]
  },
  {
   "cell_type": "code",
   "execution_count": null,
   "metadata": {},
   "outputs": [],
   "source": [
    "def logistic(x):\n",
    "    return 1.0 / (1.0 + np.exp(-x))"
   ]
  },
  {
   "cell_type": "markdown",
   "metadata": {},
   "source": [
    "We will continue predicting high blood pressure by taking in some continuous background variables, such as the age."
   ]
  },
  {
   "cell_type": "markdown",
   "metadata": {},
   "source": [
    "Recreate the model `HIGH_BP ~ sFRW + SEX + SEX:sFRW` presented in the introduction. Make sure, that you get the same results. Use name `fit` for the fitted model. Compute and store the error rate into variable `error_rate_orig`."
   ]
  },
  {
   "cell_type": "code",
   "execution_count": null,
   "metadata": {},
   "outputs": [],
   "source": [
    "# exercise 9\n",
    "# Put your solution here!\n",
    "fram['HIGH_BP'] = (\n",
    "    (fram['SBP'] >= 140) |\n",
    "    (fram['DBP'] >= 90)\n",
    ").astype(int)\n",
    "fit = smf.logit(\n",
    "    'HIGH_BP ~ sFRW + SEX + SEX:sFRW',\n",
    "    data=fram\n",
    ").fit(disp=False)\n",
    "probs = fit.predict(fram)\n",
    "preds = (probs >= 0.5).astype(int)\n",
    "error_rate_orig = np.mean(preds != fram['HIGH_BP'])\n",
    "print(f\"Error rate (original model): {error_rate_orig:.4f}\")"
   ]
  },
  {
   "cell_type": "markdown",
   "metadata": {},
   "source": [
    "Add the `sAGE` variable and its interactions. Check the prediction accuracy of the model and compare it to the previous model. Store the prediction accuracy to variable `error_rate`."
   ]
  },
  {
   "cell_type": "code",
   "execution_count": null,
   "metadata": {},
   "outputs": [],
   "source": [
    "# exercise 10\n",
    "# Put your solution here!\n",
    "fit = smf.logit(\n",
    "    'HIGH_BP ~ sFRW + SEX + SEX:sFRW + sAGE + sAGE:sFRW + sAGE:SEX',\n",
    "    data=fram\n",
    ").fit(disp=False)\n",
    "probs     = fit.predict(fram)\n",
    "preds     = (probs >= 0.5).astype(int)\n",
    "error_rate = np.mean(preds != fram['HIGH_BP'])\n",
    "print(f\"Original error rate: {error_rate_orig:.4f}\")\n",
    "print(f\"New error rate with age: {error_rate:.4f}\")"
   ]
  },
  {
   "cell_type": "markdown",
   "metadata": {},
   "source": [
    "Visualize the predicted probability of high blood pressure as the function of weight. Remember to use normalized values (`rescale`) also for those variables that are not included in the visualization, so that sensible values are used for them (data average). Draw two figures with altogether six curves: young, middle aged, and old women; and young, middle aged, and old men. Use `plt.subplots`. (Plotting works in similar fashion as in the introduction. The argument factors need, however, be changed as in the example about visualisation of continuous variable.) "
   ]
  },
  {
   "cell_type": "code",
   "execution_count": null,
   "metadata": {},
   "outputs": [],
   "source": [
    "# exercise 11\n",
    "\n",
    "def logistic(x):\n",
    "    return 1.0 / (1.0 + np.exp(-x))\n",
    "\n",
    "# Put your solution here!\n",
    "age_levels = [-1.0, 0.0, 1.0]\n",
    "sexes = ['female', 'male']\n",
    "x = np.linspace(fram['sFRW'].min(), fram['sFRW'].max(), 100)\n",
    "fig, axes = plt.subplots(1, 2, figsize=(12, 5), sharey=True)\n",
    "for ax, sex in zip(axes, sexes):\n",
    "    df_sex = fram[fram['SEX'] == sex]\n",
    "    ax.scatter(df_sex['sFRW'], df_sex['HIGH_BP'], alpha=0.3, label='data')\n",
    "    for age_val in age_levels:\n",
    "        df_pred = pd.DataFrame({\n",
    "            'sFRW': x,\n",
    "            'SEX': sex,\n",
    "            'sAGE': age_val,\n",
    "            'sCHOL': 0.0,\n",
    "            'sCIG': 0.0\n",
    "        })\n",
    "        probs = fit.predict(df_pred)\n",
    "        ax.plot(x, probs, label=f'sAGE = {age_val}')\n",
    "    ax.set_title(f'SEX = {sex}')\n",
    "    ax.set_xlabel('Scaled weight (sFRW)')\n",
    "    ax.set_ylabel('P(HIGH_BP)')\n",
    "    ax.legend()\n",
    "plt.tight_layout()\n",
    "plt.show()\n"
   ]
  },
  {
   "cell_type": "markdown",
   "metadata": {},
   "source": [
    "How do the models with different ages and genders differ from each other?\n",
    "\n",
    "***\n",
    "In plain terms, both being male and being older not only raise your overall risk of high blood pressure at every weight, but they also magnify the effect of weight gain on that risk—so the same pound of extra weight pushes an older man’s probability up much more than it would for a young woman.\n",
    "***"
   ]
  },
  {
   "cell_type": "markdown",
   "metadata": {},
   "source": [
    "Create here a helper function `train_test_split` that gets a DataFrame as parameter and return a pair of DataFrames: one for training and the second for testing. \n",
    "The function should get parameters in the following way:\n",
    "```python\n",
    "train_test_split(df, train_fraction=0.8)\n",
    "```\n",
    "The data should be split randomly to training and testing DataFrames so that `train_fraction` fraction of data should go into the training set. Use the `sample` method of the DataFrame."
   ]
  },
  {
   "cell_type": "code",
   "execution_count": null,
   "metadata": {},
   "outputs": [],
   "source": [
    "# exercise 12\n",
    "# Put your solution here!\n",
    "def train_test_split(df, train_fraction=0.8):\n",
    "    \"\"\"\n",
    "    Split a DataFrame into a training and testing set.\n",
    "    \n",
    "    Parameters\n",
    "    ----------\n",
    "    df : pandas.DataFrame\n",
    "        The full dataset to split.\n",
    "    train_fraction : float, default=0.8\n",
    "        Fraction of the data to include in the training set.\n",
    "    \n",
    "    Returns\n",
    "    -------\n",
    "    train_df : pandas.DataFrame\n",
    "        A random sample comprising `train_fraction` of the rows.\n",
    "    test_df : pandas.DataFrame\n",
    "        The remaining rows.\n",
    "    \"\"\"\n",
    "    train_df = df.sample(frac=train_fraction, replace=False, random_state=None)\n",
    "    test_df = df.drop(train_df.index)\n",
    "    return train_df, test_df\n"
   ]
  },
  {
   "cell_type": "markdown",
   "metadata": {},
   "source": [
    "Check the prediction accuracy of your model using cross validation. Use 100-fold cross validation and training_fraction 0.8."
   ]
  },
  {
   "cell_type": "code",
   "execution_count": null,
   "metadata": {},
   "outputs": [],
   "source": [
    "# exercise 13\n",
    "\n",
    "np.random.seed(1)\n",
    "error_rates = []\n",
    "for _ in range(100):\n",
    "    train_df = fram.sample(frac=0.8)\n",
    "    test_df  = fram.drop(train_df.index)\n",
    "    fit_cv = smf.logit(\n",
    "        'HIGH_BP ~ sFRW + SEX + SEX:sFRW + sAGE + sAGE:sFRW + sAGE:SEX',\n",
    "        data=train_df\n",
    "    ).fit(disp=False)\n",
    "    preds = (fit_cv.predict(test_df) >= 0.5).astype(int)\n",
    "    error_rates.append(np.mean(preds != test_df['HIGH_BP']))\n",
    "error_model = np.mean(error_rates)\n",
    "print(f\"Cross‐validated error rate: {error_model:.10f}\")"
   ]
  },
  {
   "cell_type": "markdown",
   "metadata": {},
   "source": [
    "## Predicting coronary heart disease\n",
    "\n",
    "Let us use again the same data to learn a model for the occurrence of coronary heart disease. We will use logistic regression to predict whether a patient *sometimes* shows symptoms of coronary heart disease. For this, add to the data a binary variable `hasCHD`, that describes the event (`CHD > 0`). The binary variable `hadCHD` can get only two values: 0 or 1. As a sanity check, compute the mean of this variable, which tells the number of positive cases."
   ]
  },
  {
   "cell_type": "code",
   "execution_count": null,
   "metadata": {},
   "outputs": [],
   "source": [
    "# exercise 14\n",
    "fram['hasCHD'] = (fram['CHD'] > 0).astype(int)\n",
    "mean_hasCHD = fram['hasCHD'].mean()\n",
    "print(f\"Fraction of patients with CHD symptoms: {mean_hasCHD:.4f}\")\n"
   ]
  },
  {
   "cell_type": "markdown",
   "metadata": {},
   "source": [
    "Next, form a logistic regression model for variable `hasCHD` by using variables sCHOL, sCIG, and sFRW, and their interactions as explanatory variables. Store the fitted model to variable `fit`. Compute the prediction accuracy of the model, store it to variable `error_rate`."
   ]
  },
  {
   "cell_type": "code",
   "execution_count": null,
   "metadata": {},
   "outputs": [],
   "source": [
    "# exercise 15\n",
    "fit = smf.logit(\n",
    "    'hasCHD ~ (sCHOL + sCIG + sFRW)**2',\n",
    "    data=fram\n",
    ").fit(disp=False)\n",
    "probs = fit.predict(fram)\n",
    "preds = (probs >= 0.5).astype(int)\n",
    "error_rate = np.mean(preds != fram['hasCHD'])\n",
    "print(f\"Model accuracy: {(1-error_rate):.4f}, error rate: {error_rate:.4f}\")\n"
   ]
  },
  {
   "cell_type": "markdown",
   "metadata": {},
   "source": [
    "Visualize the model by using the most important explanator on the x axis. Visualize both the points (with `plt.scatter`)\n",
    "and the logistic curve (with `plt.plot`)."
   ]
  },
  {
   "cell_type": "code",
   "execution_count": null,
   "metadata": {},
   "outputs": [],
   "source": [
    "# exercise 16\n",
    "def logistic(x):\n",
    "    return 1.0 / (1.0 + np.exp(-x))\n",
    "# Put your solution here!\n",
    "coefs = fit.params[['sCHOL', 'sCIG', 'sFRW']]\n",
    "best = coefs.abs().idxmax()\n",
    "x = fram[best]\n",
    "x_range = np.linspace(x.min(), x.max(), 200)\n",
    "df_pred = pd.DataFrame({best: x_range})\n",
    "for var in ['sCHOL', 'sCIG', 'sFRW']:\n",
    "    if var != best:\n",
    "        df_pred[var] = 0.0\n",
    "plt.figure()\n",
    "plt.scatter(x, fram['hasCHD'], alpha=0.3)\n",
    "probs = fit.predict(df_pred)\n",
    "plt.plot(x_range, probs)\n",
    "plt.xlabel(best)\n",
    "plt.ylabel('P(hasCHD)')\n",
    "plt.show()"
   ]
  },
  {
   "cell_type": "markdown",
   "metadata": {},
   "source": [
    "Is the prediction accuracy of the model good or bad? Can we expect to have practical use of the model?\n",
    "***\n",
    "Although the model achieves a seemingly high overall accuracy by predicting the majority class (“no CHD”), its improvement over that naïve baseline is minimal. This indicates poor real‐world performance: it would miss too many true CHD cases or flag too many healthy individuals. Therefore, as constructed, the model is not practically useful without additional predictors, better handling of class imbalance, and more appropriate evaluation metrics\n",
    "***"
   ]
  },
  {
   "cell_type": "markdown",
   "metadata": {},
   "source": [
    "If a person has cholestherol 200, smokes 17 cigarets per day, and has weight 100, then what is the probability that he/she sometimes shows signs of coronal hear disease? Note that the model expects normalized values. Store the normalized values to dictionary called `point`. Store the probability in variable `predicted`."
   ]
  },
  {
   "cell_type": "code",
   "execution_count": null,
   "metadata": {},
   "outputs": [],
   "source": [
    "# exercise 17\n",
    "sCHOL_val = (200 - fram['CHOL'].mean()) / (2 * fram['CHOL'].std())\n",
    "sCIG_val  = (17  - fram['CIG' ].mean()) / (2 * fram['CIG' ].std())\n",
    "sFRW_val  = (100 - fram['FRW'].mean()) / (2 * fram['FRW'].std())\n",
    "point = {\n",
    "    'sCHOL': sCHOL_val,\n",
    "    'sCIG':  sCIG_val,\n",
    "    'sFRW':  sFRW_val\n",
    "}\n",
    "predicted = fit.predict(pd.DataFrame([point]))[0]\n",
    "print(f\"Normalized inputs: {point}\")\n",
    "print(f\"Predicted P(hasCHD) = {predicted:.4f}\")"
   ]
  }
 ],
 "metadata": {
  "kernelspec": {
   "display_name": "Python 3",
   "language": "python",
   "name": "python3"
  },
  "language_info": {
   "codemirror_mode": {
    "name": "ipython",
    "version": 3
   },
   "file_extension": ".py",
   "mimetype": "text/x-python",
   "name": "python",
   "nbconvert_exporter": "python",
   "pygments_lexer": "ipython3",
   "version": "3.10.5"
  }
 },
 "nbformat": 4,
 "nbformat_minor": 2
}
